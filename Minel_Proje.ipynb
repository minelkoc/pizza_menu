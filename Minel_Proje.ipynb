{
 "cells": [
  {
   "cell_type": "code",
   "execution_count": 2,
   "id": "b0268563",
   "metadata": {},
   "outputs": [],
   "source": [
    "import csv\n",
    "import datetime"
   ]
  },
  {
   "cell_type": "code",
   "execution_count": 86,
   "id": "0a609721",
   "metadata": {},
   "outputs": [],
   "source": [
    "#Pizza Üst Sınıfı\n",
    "class Pizza:\n",
    "    def __init__(self,cost,description):\n",
    "        self.cost=cost\n",
    "        self.description=description\n",
    "    def get_description(self):\n",
    "        return self.description\n",
    "    def get_cost(self):\n",
    "        return self.cost"
   ]
  },
  {
   "cell_type": "code",
   "execution_count": 87,
   "id": "6f6ad238",
   "metadata": {},
   "outputs": [],
   "source": [
    "#Her bir pizza türümüz için Sub Class oluşturuyoruz get_cost ve get_description fonksiyonlarımız\n",
    "#Super Class'ta olduğu için super().__init__ fonksiyonunu kullanarak değişkenlerimizi\n",
    "#Super Class'a yolluyoruz.\n",
    "class Klasik(Pizza):\n",
    "    def __init__(self, cost=90, description=\"Klasik pizza\"):\n",
    "        super().__init__(cost, description)\n",
    "        \n",
    "class Margarita(Pizza):\n",
    "    def __init__(self, cost=83, description=\"Margarita pizza\"):\n",
    "        super().__init__(cost, description)\n",
    "        \n",
    "class TurkPizza(Pizza):\n",
    "    def __init__(self, cost=100, description=\"Türk pizza\"):\n",
    "        super().__init__(cost, description)\n",
    "        \n",
    "class SadePizza(Pizza):\n",
    "    def __init__(self, cost=85, description=\"Sade pizza\"):\n",
    "        super().__init__(cost, description)"
   ]
  },
  {
   "cell_type": "code",
   "execution_count": 88,
   "id": "a3207608",
   "metadata": {},
   "outputs": [],
   "source": [
    "#Sos Üst Sınıfı\n",
    "class Decorator(Pizza):\n",
    "    def __init__(self,pizza,cost,description):\n",
    "        self.component=pizza\n",
    "        self.cost=cost\n",
    "        self.description=description\n",
    "        \n",
    "    def get_cost(self):\n",
    "        return self.component.get_cost() + Pizza.get_cost(self)\n",
    "    \n",
    "    def get_description(self):\n",
    "        return self.component.get_description() + ' ' + Pizza.get_description(self)\n",
    "       "
   ]
  },
  {
   "cell_type": "code",
   "execution_count": 95,
   "id": "27fcc968",
   "metadata": {},
   "outputs": [],
   "source": [
    "#Soslar için Subclass'lar oluşturduk pizza sub class'larında yaptığımız gibi burada da\n",
    "#super().__init__ fonksiyonunu kullanarak değişkenlerimizi super class'a aktardık.\n",
    "\n",
    "class Zeytin(Decorator):\n",
    "    def __init__(self, pizza, cost=7, description=\"ve ekstra zeytin\"):\n",
    "        super().__init__(pizza,cost, description)\n",
    "    \n",
    "class Mantar(Decorator):\n",
    "    def __init__(self, pizza, cost=8, description=\"ve ekstra mantar\"):\n",
    "        super().__init__(pizza,cost, description)\n",
    "    \n",
    "class KeciPeyniri(Decorator):\n",
    "    def __init__(self, pizza, cost=12, description=\"ve ekstra keçi peyniri\"):\n",
    "        super().__init__(pizza,cost, description)\n",
    "    \n",
    "class Et(Decorator):\n",
    "    def __init__(self, pizza, cost=15, description=\"ve ekstra et\"):\n",
    "        super().__init__(pizza,cost, description)\n",
    "    \n",
    "class Sogan(Decorator):\n",
    "    def __init__(self, pizza, cost=6, description=\"ve ekstra soğan\"):\n",
    "        super().__init__(pizza,cost, description)\n",
    "    \n",
    "class Mısır(Decorator):\n",
    "    def __init__(self, pizza, cost=9, description=\"ve ekstra mısır\"):\n",
    "        super().__init__(pizza,cost, description)"
   ]
  },
  {
   "cell_type": "code",
   "execution_count": 103,
   "id": "933e551e",
   "metadata": {},
   "outputs": [],
   "source": [
    "#Eğer Order Database Daha önceden oluşturulmadıysa burada oluşturabiliriz\n",
    "#Çünkü main fonksiyonu sadece eklemeye yarıyor eğer databese önceden yoksa hata verecektir.\n",
    "with open('Orders_Database.csv', 'w', newline='',encoding='utf-8') as file:\n",
    "    writer = csv.writer(file)\n",
    "    writer.writerow([\"Kullanıcı Adı\",\"Kullanıcı kimliği\",\"Kredi Kartı No\",\"Sipariş Açıklaması\",\"Sipariş Zamanı\",\"Kredi Kartı Şifre\",\"Fiyat\"])"
   ]
  },
  {
   "cell_type": "code",
   "execution_count": 105,
   "id": "1b59b222",
   "metadata": {},
   "outputs": [
    {
     "name": "stdout",
     "output_type": "stream",
     "text": [
      "* LÃ¼tfen Bir Pizza TabanÄ± SeÃ§iniz:\n",
      "1: Klasik\n",
      "2: Margarita\n",
      "3: TÃ¼rkPizza\n",
      "4: Sade Pizza\n",
      "* ve seÃ§eceÄŸiniz sos:\n",
      "11: Zeytin\n",
      "12: Mantarlar\n",
      "13: KeÃ§i Peyniri\n",
      "14: Et\n",
      "15: SoÄŸan\n",
      "16: MÄ±sÄ±r\n",
      "* TeÅŸekkÃ¼r ederiz!\n",
      "Pizzanızı Seçiniz: 3\n",
      "Sosunuzu Seçiniz: 15\n",
      "İsminizi Giriniz: emre\n",
      "Tc Kimlik Numaranızı Giriniz: 15\n",
      "Kredi Kartı Numaranızı Giriniz: 15\n",
      "Kredi Kartı Şifrenizi Giriniz: 6\n"
     ]
    }
   ],
   "source": [
    "def main():\n",
    "    #Menü Basımı\n",
    "    menu=\"\".join(open('Menu.txt').readlines()).split(\"\\n\")\n",
    "    for satir in menu:print(satir)\n",
    "        \n",
    "    #pizza Seçimi\n",
    "    pizza_no=int(input(\"Pizzanızı Seçiniz: \"))\n",
    "    pizza_dict={1:Klasik(),2:Margarita(),3:TurkPizza(),4:SadePizza()}\n",
    "    pizza=pizza_dict[pizza_no]\n",
    "    \n",
    "    #Sos Seçimi ve Eklenmesi\n",
    "    sos_no=int(input(\"Sosunuzu Seçiniz: \"))\n",
    "    sos_dict={11:Zeytin(pizza),12:Mantar(pizza),13:KeciPeyniri(pizza),14:Et(pizza),15:Sogan(pizza),16:Mısır(pizza)}\n",
    "    pizza=sos_dict[sos_no]\n",
    "    \n",
    "    #Diğer Bilgilerin Alınması\n",
    "    isim=input(\"İsminizi Giriniz: \")\n",
    "    tc=int(input(\"Tc Kimlik Numaranızı Giriniz: \"))\n",
    "    kart_no=int(input(\"Kredi Kartı Numaranızı Giriniz: \"))\n",
    "    sifre=int(input(\"Kredi Kartı Şifrenizi Giriniz: \"))\n",
    "    zaman = datetime.datetime.now()\n",
    "    \n",
    "    #verileri satır şeklinde birleştiriyoruz\n",
    "    satir=[isim,tc,kart_no,pizza.get_description(),zaman.isoformat(),sifre,pizza.get_cost()]\n",
    "    \n",
    "    #Satırı Csv dosyamıza yazıyoruz\n",
    "    with open('Orders_Database.csv', 'a', newline='',encoding='utf-8') as file:\n",
    "        writer = csv.writer(file)\n",
    "        writer.writerow(satir)"
   ]
  },
  {
   "cell_type": "code",
   "execution_count": null,
   "id": "9bedb2fc",
   "metadata": {},
   "outputs": [],
   "source": [
    "main()"
   ]
  }
 ],
 "metadata": {
  "kernelspec": {
   "display_name": "Python 3 (ipykernel)",
   "language": "python",
   "name": "python3"
  },
  "language_info": {
   "codemirror_mode": {
    "name": "ipython",
    "version": 3
   },
   "file_extension": ".py",
   "mimetype": "text/x-python",
   "name": "python",
   "nbconvert_exporter": "python",
   "pygments_lexer": "ipython3",
   "version": "3.8.15"
  }
 },
 "nbformat": 4,
 "nbformat_minor": 5
}
